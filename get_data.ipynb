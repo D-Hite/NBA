{
 "cells": [
  {
   "cell_type": "code",
   "execution_count": null,
   "metadata": {},
   "outputs": [],
   "source": [
    "# Created 6/28/2021\n",
    "# Updated 9/27\n",
    "\n",
    "import pandas as pd\n",
    "import numpy as np\n",
    "import nba_api.stats.endpoints as ep\n",
    "import datetime\n",
    "import re\n",
    "from os import path"
   ]
  },
  {
   "cell_type": "code",
   "execution_count": null,
   "metadata": {},
   "outputs": [],
   "source": [
    "def lshelper(game_arr, gd):\n",
    "    for x in range(len(game_arr)):\n",
    "        gid = game_arr[x, 4]\n",
    "        match = game_arr[x, 6]\n",
    "        pm = game_arr[x, 27]\n",
    "        if game_arr[x, 7] == 'W':\n",
    "            winner = game_arr[x, 2]\n",
    "        else:\n",
    "            winner = game_arr[x, 6][-3:]\n",
    "        gd[gid] = (match, pm, winner)\n",
    "    return gd\n",
    "\n",
    "\n",
    "class StatBucket():\n",
    "\n",
    "    def __init__(self):\n",
    "        self.clog = None\n",
    "        self.log = None\n",
    "        self.oslog = None\n",
    "        self.outcomes = None\n",
    "        self.data = None\n",
    "\n",
    "    def update_log(self, season):\n",
    "        result = ep.leaguegamefinder.LeagueGameFinder(season_nullable=season)\n",
    "        all_games = result.get_data_frames()[0]\n",
    "        rs = all_games[all_games.SEASON_ID == '2' + season[:4]]\n",
    "        rs = rs[rs.GAME_ID.str[:3] == '002'] #may need to update\n",
    "        os = all_games[all_games.SEASON_ID == '4' + season[:4]]\n",
    "        os = os[os.GAME_ID.str[:3] == '004']\n",
    "        self.log = rs\n",
    "        self.oslog = os\n",
    "        self.clog = rs.append(os)\n",
    "    \n",
    "    \n",
    "    def get_log_stats(self):\n",
    "        game_arr = self.log.to_numpy()\n",
    "        os_arr = self.oslog.to_numpy()\n",
    "        game_dat = dict()\n",
    "        game_dat = lshelper(game_arr, game_dat)\n",
    "        res = lshelper(os_arr, game_dat)        \n",
    "        self.outcomes = res\n",
    "        \n",
    "        \n",
    "def Season_csv(statfunc, gidset):\n",
    "    first = gidset.pop()\n",
    "    tstats = statfunc(game_id=first).get_data_frames()[1]\n",
    "    for gid in gidset:\n",
    "        game = statfunc(game_id=gid).get_data_frames()[1]\n",
    "        tstats = tstats.append(game)\n",
    "    return tstats"
   ]
  },
  {
   "cell_type": "code",
   "execution_count": null,
   "metadata": {},
   "outputs": [],
   "source": [
    "# FUNCTIONS\n",
    "SEASONS = ['2010-11',\n",
    "          '2009-10',\n",
    "          '2008-09']\n",
    "\n",
    "# ['2012-13',\n",
    "#           '2013-14',\n",
    "#           '2014-15',\n",
    "#           '2015-16',\n",
    "#           '2016-17',\n",
    "#           '2017-18',\n",
    "#           '2018-19',\n",
    "#           '2019-20',\n",
    "#           '2020-21']\n",
    "\n",
    "FN = ['advanced',\n",
    "     'fourfactors',\n",
    "     'misc',\n",
    "     'scoring']\n",
    "#      'summary',\n",
    "#      'traditional'\n",
    "\n",
    "FD = {'advanced':ep.boxscoreadvancedv2.BoxScoreAdvancedV2,\n",
    "     'fourfactors':ep.boxscorefourfactorsv2.BoxScoreFourFactorsV2,\n",
    "     'misc':ep.boxscoremiscv2.BoxScoreMiscV2,\n",
    "     'scoring':ep.boxscorescoringv2.BoxScoreScoringV2,\n",
    "     'summary':ep.boxscoresummaryv2.BoxScoreSummaryV2,\n",
    "     'traditional':ep.boxscoretraditionalv2.BoxScoreTraditionalV2\n",
    "    }"
   ]
  },
  {
   "cell_type": "code",
   "execution_count": null,
   "metadata": {},
   "outputs": [],
   "source": [
    "# FOR MULTIPLE SEASONS\n",
    "for i in range(len(SEASONS)):\n",
    "    for j in FN:\n",
    "        if path.exists(f'DATA/raw/{j}/{j}{SEASONS[i]}.csv'):\n",
    "            continue\n",
    "        sb = StatBucket()\n",
    "        sb.update_log(SEASONS[i][:4])\n",
    "        sb.get_log_stats()\n",
    "        gidset = set(sb.outcomes.keys())\n",
    "        ns = Season_csv(FD[j], gidset)\n",
    "        ns.sort_values('TEAM_ID', inplace=True, kind='mergesort')\n",
    "        ns.sort_values('GAME_ID', inplace=True, kind='mergesort')\n",
    "        ns.to_csv(f'DATA/raw/{j}/{j}{SEASONS[i]}.csv')"
   ]
  },
  {
   "cell_type": "code",
   "execution_count": null,
   "metadata": {},
   "outputs": [],
   "source": []
  },
  {
   "cell_type": "code",
   "execution_count": null,
   "metadata": {},
   "outputs": [],
   "source": [
    "## FOR ONE SEASON / FUNCTION\n",
    "# UPDATE THIS CELL THEN RUN CELL BELOW\n",
    "SEASON = '2020-21'\n",
    "FUNC = 'scoring'"
   ]
  },
  {
   "cell_type": "code",
   "execution_count": null,
   "metadata": {},
   "outputs": [],
   "source": [
    "sb = StatBucket()\n",
    "sb.update_log(SEASON[:4])\n",
    "sb.get_log_stats()\n",
    "gidset = set(sb.outcomes.keys())\n",
    "ns = Season_csv(FD[FUNC], gidset)\n",
    "ns = ns.sort_values('GAME_ID')\n",
    "ns.to_csv(f'DATA/raw/{FUNC}/{FUNC}{SEASON}.csv')"
   ]
  },
  {
   "cell_type": "code",
   "execution_count": null,
   "metadata": {},
   "outputs": [],
   "source": []
  },
  {
   "cell_type": "code",
   "execution_count": null,
   "metadata": {},
   "outputs": [],
   "source": []
  },
  {
   "cell_type": "code",
   "execution_count": null,
   "metadata": {},
   "outputs": [],
   "source": []
  }
 ],
 "metadata": {
  "kernelspec": {
   "display_name": "Python 3",
   "language": "python",
   "name": "python3"
  },
  "language_info": {
   "codemirror_mode": {
    "name": "ipython",
    "version": 3
   },
   "file_extension": ".py",
   "mimetype": "text/x-python",
   "name": "python",
   "nbconvert_exporter": "python",
   "pygments_lexer": "ipython3",
   "version": "3.7.3"
  }
 },
 "nbformat": 4,
 "nbformat_minor": 2
}
