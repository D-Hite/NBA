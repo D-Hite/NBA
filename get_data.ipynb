{
 "cells": [
  {
   "cell_type": "code",
   "execution_count": null,
   "metadata": {},
   "outputs": [],
   "source": [
    "# Created 6/28/2021\n",
    "# Updated 9/27\n",
    "\n",
    "import pandas as pd\n",
    "import numpy as np\n",
    "import nba_api.stats.endpoints as ep\n",
    "import datetime\n",
    "import re\n",
    "from os import path"
   ]
  },
  {
   "cell_type": "code",
   "execution_count": null,
   "metadata": {},
   "outputs": [],
   "source": [
    "def lshelper(game_arr, gd):\n",
    "    for x in range(len(game_arr)):\n",
    "        gid = game_arr[x, 4]\n",
    "        match = game_arr[x, 6]\n",
    "        pm = game_arr[x, 27]\n",
    "        if game_arr[x, 7] == 'W':\n",
    "            winner = game_arr[x, 2]\n",
    "        else:\n",
    "            winner = game_arr[x, 6][-3:]\n",
    "        gd[gid] = (match, pm, winner)\n",
    "    return gd\n",
    "\n",
    "\n",
    "class StatBucket():\n",
    "\n",
    "    def __init__(self):\n",
    "        self.clog = None\n",
    "        self.log = None\n",
    "        self.oslog = None\n",
    "        self.outcomes = None\n",
    "        self.data = None\n",
    "\n",
    "    def update_log(self, season):\n",
    "        result = ep.leaguegamefinder.LeagueGameFinder(season_nullable=season)\n",
    "        all_games = result.get_data_frames()[0]\n",
    "        rs = all_games[all_games.SEASON_ID == '2' + season[:4]]\n",
    "        rs = rs[rs.GAME_ID.str[:3] == '002'] #may need to update\n",
    "        os = all_games[all_games.SEASON_ID == '4' + season[:4]]\n",
    "        os = os[os.GAME_ID.str[:3] == '004']\n",
    "        self.log = rs\n",
    "        self.oslog = os\n",
    "        self.clog = rs.append(os)\n",
    "    \n",
    "    \n",
    "    def get_log_stats(self):\n",
    "        game_arr = self.log.to_numpy()\n",
    "        os_arr = self.oslog.to_numpy()\n",
    "        game_dat = dict()\n",
    "        game_dat = lshelper(game_arr, game_dat)\n",
    "        res = lshelper(os_arr, game_dat)        \n",
    "        self.outcomes = res\n",
    "        \n",
    "        \n",
    "def Season_csv(statfunc, gidset):\n",
    "    first = gidset.pop()\n",
    "    tstats = statfunc(game_id=first).get_data_frames()[1]\n",
    "    for gid in gidset:\n",
    "        game = statfunc(game_id=gid).get_data_frames()[1]\n",
    "        tstats = tstats.append(game)\n",
    "    return tstats"
   ]
  },
  {
   "cell_type": "markdown",
   "metadata": {},
   "source": [
    "### advanced: ep.boxscoreadvancedv2.BoxScoreAdvancedV2\n",
    "['GAME_ID', 'TEAM_ID', 'TEAM_NAME', 'TEAM_ABBREVIATION', 'TEAM_CITY', 'MIN', 'E_OFF_RATING', 'OFF_RATING', 'E_DEF_RATING', 'DEF_RATING', 'E_NET_RATING', 'NET_RATING', 'AST_PCT', 'AST_TOV', 'AST_RATIO', 'OREB_PCT', 'DREB_PCT', 'REB_PCT', 'E_TM_TOV_PCT', 'TM_TOV_PCT', 'EFG_PCT', 'TS_PCT', 'USG_PCT', 'E_USG_PCT', 'E_PACE', 'PACE', 'PACE_PER40', 'POSS', 'PIE']\n",
    "\n",
    "### fourfactors: ep.boxscorefourfactorsv2.BoxScoreFourFactorsV2\n",
    "['GAME_ID', 'TEAM_ID', 'TEAM_NAME', 'TEAM_ABBREVIATION', 'TEAM_CITY', 'MIN', 'EFG_PCT', 'FTA_RATE', 'TM_TOV_PCT', 'OREB_PCT', 'OPP_EFG_PCT', 'OPP_FTA_RATE', 'OPP_TOV_PCT', 'OPP_OREB_PCT']\n",
    "\n",
    "### 'misc': ep.boxscoremiscv2.BoxScoreMiscV2\n",
    "['GAME_ID', 'TEAM_ID', 'TEAM_NAME', 'TEAM_ABBREVIATION', 'TEAM_CITY', 'MIN', 'PTS_OFF_TOV', 'PTS_2ND_CHANCE', 'PTS_FB', 'PTS_PAINT', 'OPP_PTS_OFF_TOV', 'OPP_PTS_2ND_CHANCE', 'OPP_PTS_FB', 'OPP_PTS_PAINT', 'BLK', 'BLKA', 'PF', 'PFD']\n",
    "\n",
    "### 'scoring': ep.boxscorescoringv2.BoxScoreScoringV2\n",
    "\n",
    "['GAME_ID', 'TEAM_ID', 'TEAM_NAME', 'TEAM_ABBREVIATION', 'TEAM_CITY', 'MIN', 'PCT_FGA_2PT', 'PCT_FGA_3PT', 'PCT_PTS_2PT', 'PCT_PTS_2PT_MR', 'PCT_PTS_3PT', 'PCT_PTS_FB', 'PCT_PTS_FT', 'PCT_PTS_OFF_TOV', 'PCT_PTS_PAINT', 'PCT_AST_2PM', 'PCT_UAST_2PM', 'PCT_AST_3PM', 'PCT_UAST_3PM', 'PCT_AST_FGM', 'PCT_UAST_FGM']\n",
    "\n",
    "\n",
    "\n",
    "## ALL DATA\n",
    "['PTS', 'FGM', 'FGA', 'FG_PCT', 'FG3M', 'FG3A',\n",
    " 'FG3_PCT', 'FTM', 'FTA', 'FT_PCT', 'OREB', 'DREB', 'REB', 'AST', 'STL',\n",
    "       'BLK', 'TOV', 'PF', 'E_OFF_RATING',\n",
    "       'OFF_RATING', 'E_DEF_RATING', 'DEF_RATING', 'E_NET_RATING',\n",
    "       'NET_RATING', 'AST_PCT', 'AST_TOV', 'AST_RATIO', 'OREB_PCT', 'DREB_PCT',\n",
    "       'REB_PCT', 'E_TM_TOV_PCT', 'TM_TOV_PCT', 'EFG_PCT', 'TS_PCT', 'USG_PCT',\n",
    "       'E_USG_PCT', 'E_PACE', 'PACE', 'PACE_PER40', 'POSS', 'PIE', 'FTA_RATE',\n",
    "       'OPP_EFG_PCT', 'OPP_FTA_RATE', 'OPP_TOV_PCT', 'OPP_OREB_PCT',\n",
    "       'PTS_OFF_TOV', 'PTS_2ND_CHANCE', 'PTS_FB', 'PTS_PAINT',\n",
    "       'OPP_PTS_OFF_TOV', 'OPP_PTS_2ND_CHANCE', 'OPP_PTS_FB', 'OPP_PTS_PAINT',\n",
    "       'BLKA', 'PFD', 'PCT_FGA_2PT', 'PCT_FGA_3PT', 'PCT_PTS_2PT',\n",
    "       'PCT_PTS_2PT_MR', 'PCT_PTS_3PT', 'PCT_PTS_FB', 'PCT_PTS_FT',\n",
    "       'PCT_PTS_OFF_TOV', 'PCT_PTS_PAINT', 'PCT_AST_2PM', 'PCT_UAST_2PM',\n",
    "       'PCT_AST_3PM', 'PCT_UAST_3PM', 'PCT_AST_FGM', 'PCT_UAST_FGM']"
   ]
  },
  {
   "cell_type": "code",
   "execution_count": null,
   "metadata": {},
   "outputs": [],
   "source": [
    "# FUNCTIONS\n",
    "SEASONS = ['2010-11',\n",
    "          '2009-10',\n",
    "          '2008-09']\n",
    "\n",
    "# ['2012-13',\n",
    "#           '2013-14',\n",
    "#           '2014-15',\n",
    "#           '2015-16',\n",
    "#           '2016-17',\n",
    "#           '2017-18',\n",
    "#           '2018-19',\n",
    "#           '2019-20',\n",
    "#           '2020-21']\n",
    "\n",
    "FN = ['advanced',\n",
    "     'fourfactors',\n",
    "     'misc',\n",
    "     'scoring']\n",
    "#      'summary',\n",
    "#      'traditional'\n",
    "\n",
    "FD = {'advanced':ep.boxscoreadvancedv2.BoxScoreAdvancedV2,\n",
    "     'fourfactors':ep.boxscorefourfactorsv2.BoxScoreFourFactorsV2,\n",
    "     'misc':ep.boxscoremiscv2.BoxScoreMiscV2,\n",
    "     'scoring':ep.boxscorescoringv2.BoxScoreScoringV2,\n",
    "     'summary':ep.boxscoresummaryv2.BoxScoreSummaryV2,\n",
    "     'traditional':ep.boxscoretraditionalv2.BoxScoreTraditionalV2\n",
    "    }"
   ]
  },
  {
   "cell_type": "code",
   "execution_count": null,
   "metadata": {},
   "outputs": [],
   "source": [
    "# FOR MULTIPLE SEASONS\n",
    "for i in range(len(SEASONS)):\n",
    "    for j in FN:\n",
    "        if path.exists(f'DATA/raw/{j}/{j}{SEASONS[i]}.csv'):\n",
    "            continue\n",
    "        sb = StatBucket()\n",
    "        sb.update_log(SEASONS[i][:4])\n",
    "        sb.get_log_stats()\n",
    "        gidset = set(sb.outcomes.keys())\n",
    "        ns = Season_csv(FD[j], gidset)\n",
    "        ns.sort_values('TEAM_ID', inplace=True, kind='mergesort')\n",
    "        ns.sort_values('GAME_ID', inplace=True, kind='mergesort')\n",
    "        ns.to_csv(f'DATA/raw/{j}/{j}{SEASONS[i]}.csv')"
   ]
  },
  {
   "cell_type": "code",
   "execution_count": null,
   "metadata": {},
   "outputs": [],
   "source": []
  },
  {
   "cell_type": "code",
   "execution_count": null,
   "metadata": {},
   "outputs": [],
   "source": [
    "## FOR ONE SEASON / FUNCTION\n",
    "# UPDATE THIS CELL THEN RUN CELL BELOW\n",
    "SEASON = '2020-21'\n",
    "FUNC = 'scoring'"
   ]
  },
  {
   "cell_type": "code",
   "execution_count": null,
   "metadata": {},
   "outputs": [],
   "source": [
    "sb = StatBucket()\n",
    "sb.update_log(SEASON[:4])\n",
    "sb.get_log_stats()\n",
    "gidset = set(sb.outcomes.keys())\n",
    "ns = Season_csv(FD[FUNC], gidset)\n",
    "ns = ns.sort_values('GAME_ID')\n",
    "ns.to_csv(f'DATA/raw/{FUNC}/{FUNC}{SEASON}.csv')"
   ]
  },
  {
   "cell_type": "code",
   "execution_count": null,
   "metadata": {},
   "outputs": [],
   "source": []
  },
  {
   "cell_type": "code",
   "execution_count": null,
   "metadata": {},
   "outputs": [],
   "source": []
  },
  {
   "cell_type": "code",
   "execution_count": null,
   "metadata": {},
   "outputs": [],
   "source": []
  }
 ],
 "metadata": {
  "kernelspec": {
   "display_name": "Python 3",
   "language": "python",
   "name": "python3"
  },
  "language_info": {
   "codemirror_mode": {
    "name": "ipython",
    "version": 3
   },
   "file_extension": ".py",
   "mimetype": "text/x-python",
   "name": "python",
   "nbconvert_exporter": "python",
   "pygments_lexer": "ipython3",
   "version": "3.8.8"
  }
 },
 "nbformat": 4,
 "nbformat_minor": 2
}
