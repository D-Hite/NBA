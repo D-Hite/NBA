{
 "cells": [
  {
   "cell_type": "code",
   "execution_count": 1,
   "metadata": {},
   "outputs": [],
   "source": [
    "# Created 6/29/2021\n",
    "import pandas as pd\n",
    "import numpy as np\n",
    "import nba_api.stats.endpoints as ep\n",
    "import datetime\n",
    "import re\n",
    "from os import path"
   ]
  },
  {
   "cell_type": "code",
   "execution_count": 2,
   "metadata": {},
   "outputs": [],
   "source": [
    "SEASONS = ['2011-12',\n",
    "           '2010-11',\n",
    "           '2009-10',\n",
    "           '2008-09']\n",
    "\n",
    "FN = ['advanced',\n",
    "     'fourfactors',\n",
    "     'misc',\n",
    "     'scoring']"
   ]
  },
  {
   "cell_type": "code",
   "execution_count": 3,
   "metadata": {},
   "outputs": [],
   "source": [
    "def lshelper(game_arr, gd):\n",
    "    for x in range(len(game_arr)):\n",
    "        gid = game_arr[x, 4]\n",
    "        match = game_arr[x, 6]\n",
    "        pm = game_arr[x, 27]\n",
    "        if game_arr[x, 7] == 'W':\n",
    "            winner = game_arr[x, 2]\n",
    "        else:\n",
    "            winner = game_arr[x, 6][-3:]\n",
    "        gd[gid] = (match, pm, winner)\n",
    "    return gd\n",
    "\n",
    "\n",
    "class StatBucket():\n",
    "\n",
    "    def __init__(self):\n",
    "        self.clog = None\n",
    "        self.log = None\n",
    "        self.oslog = None\n",
    "        self.outcomes = None\n",
    "        self.data = None\n",
    "\n",
    "    def update_log(self, season):\n",
    "        result = ep.leaguegamefinder.LeagueGameFinder(season_nullable=season)\n",
    "        all_games = result.get_data_frames()[0]\n",
    "        rs = all_games[all_games.SEASON_ID == '2' + season[:4]]\n",
    "        rs = rs[rs.GAME_ID.str[:3] == '002'] #may need to update\n",
    "        os = all_games[all_games.SEASON_ID == '4' + season[:4]]\n",
    "        os = os[os.GAME_ID.str[:3] == '004']\n",
    "        self.log = rs\n",
    "        self.oslog = os\n",
    "        self.clog = rs.append(os)\n",
    "    \n",
    "    \n",
    "    def get_log_stats(self):\n",
    "        game_arr = self.log.to_numpy()\n",
    "        os_arr = self.oslog.to_numpy()\n",
    "        game_dat = dict()\n",
    "        game_dat = lshelper(game_arr, game_dat)\n",
    "        res = lshelper(os_arr, game_dat)        \n",
    "        self.outcomes = res\n",
    "        \n",
    "        \n",
    "def Season_csv(statfunc, gidset):\n",
    "    first = gidset.pop()\n",
    "    tstats = statfunc(game_id=first).get_data_frames()[1]\n",
    "    for gid in gidset:\n",
    "        game = statfunc(game_id=gid).get_data_frames()[1]\n",
    "        tstats = tstats.append(game)\n",
    "    return tstats"
   ]
  },
  {
   "cell_type": "code",
   "execution_count": 4,
   "metadata": {},
   "outputs": [],
   "source": [
    "### FOR MULTIPLE SEASONS\n",
    "\n",
    "datad = {}\n",
    "for i in SEASONS:\n",
    "    if path.exists(f'DATA/combinedv1/combined{i}.csv'):\n",
    "        continue\n",
    "    for j in FN:\n",
    "        df1 = pd.read_csv(f'DATA/raw/{j}/{j}{i}.csv', index_col='GAME_ID')\n",
    "        df1 = df1.drop(columns='Unnamed: 0', axis=1)\n",
    "        df1.sort_values('TEAM_ID', inplace=True, kind='mergesort')\n",
    "        df1.sort_values('GAME_ID', inplace=True, kind='mergesort')\n",
    "        if j == 'advanced':\n",
    "            df1 = df1.drop(columns='OREB_PCT', axis=1)\n",
    "        datad[j] = df1\n",
    "    \n",
    "    sb = StatBucket()\n",
    "    sb.update_log(i)\n",
    "    df5 = sb.clog\n",
    "    df5.set_index('GAME_ID', inplace=True)\n",
    "    df5.index = df5.index.astype('int64')\n",
    "    df5.sort_values('TEAM_ID', inplace=True, kind='mergesort')\n",
    "    df5.sort_values('GAME_ID', inplace=True, kind='mergesort')\n",
    "    \n",
    "    df = pd.concat([df5, datad[FN[0]], datad[FN[1]], datad[FN[2]], datad[FN[3]]], axis=1)\n",
    "    df = df.loc[:,~df.columns.duplicated()]\n",
    "    df.to_csv(f'DATA/combinedv1/combined{i}.csv')"
   ]
  },
  {
   "cell_type": "code",
   "execution_count": null,
   "metadata": {},
   "outputs": [],
   "source": []
  },
  {
   "cell_type": "code",
   "execution_count": null,
   "metadata": {},
   "outputs": [],
   "source": []
  },
  {
   "cell_type": "code",
   "execution_count": null,
   "metadata": {},
   "outputs": [],
   "source": [
    "# FOR ONE SEASON\n",
    "SEASON = '2020-21'\n",
    "df1 = pd.read_csv(f'DATA/raw/advanced/advanced{SEASON}.csv', index_col='GAME_ID')\n",
    "df1 = df1.drop(columns='Unnamed: 0', axis=1)\n",
    "df1.sort_values('TEAM_ID', inplace=True, kind='mergesort')\n",
    "df1.sort_values('GAME_ID', inplace=True, kind='mergesort')\n",
    "df1 = df1.drop(columns='OREB_PCT', axis=1)\n",
    "\n",
    "df2 = pd.read_csv(f'DATA/raw/fourfactors/fourfactors{SEASON}.csv', index_col='GAME_ID')\n",
    "df2 = df2.drop(columns='Unnamed: 0', axis = 1)\n",
    "df2.sort_values('TEAM_ID', inplace=True, kind='mergesort')\n",
    "df2.sort_values('GAME_ID', inplace=True, kind='mergesort')\n",
    "\n",
    "df3 = pd.read_csv(f'DATA/raw/misc/misc{SEASON}.csv', index_col='GAME_ID')\n",
    "df3 = df3.drop(columns='Unnamed: 0', axis = 1)\n",
    "df3.sort_values('TEAM_ID', inplace=True, kind='mergesort')\n",
    "df3.sort_values('GAME_ID', inplace=True, kind='mergesort')\n",
    "\n",
    "df4 = pd.read_csv(f'DATA/raw/scoring/scoring{SEASON}.csv', index_col='GAME_ID')\n",
    "df4 = df4.drop(columns='Unnamed: 0', axis = 1)\n",
    "df4.sort_values('TEAM_ID', inplace=True, kind='mergesort')\n",
    "df4.sort_values('GAME_ID', inplace=True, kind='mergesort')\n",
    "\n",
    "sb = StatBucket()\n",
    "sb.update_log(SESON[:4])\n",
    "df5 = sb.clog\n",
    "df5.set_index('GAME_ID', inplace=True)\n",
    "df5.index = df5.index.astype('int64')\n",
    "df5.sort_values('TEAM_ID', inplace=True, kind='mergesort')\n",
    "df5.sort_values('GAME_ID', inplace=True, kind='mergesort')"
   ]
  },
  {
   "cell_type": "code",
   "execution_count": null,
   "metadata": {},
   "outputs": [],
   "source": [
    "df = pd.concat([df5, df1, df2, df3, df4], axis=1)\n",
    "df = df.loc[:,~df.columns.duplicated()]\n",
    "df.to_csv(f'DATA/combinedv1/combined{SEASON}.csv')"
   ]
  },
  {
   "cell_type": "code",
   "execution_count": null,
   "metadata": {},
   "outputs": [],
   "source": []
  },
  {
   "cell_type": "code",
   "execution_count": null,
   "metadata": {},
   "outputs": [],
   "source": []
  },
  {
   "cell_type": "code",
   "execution_count": null,
   "metadata": {},
   "outputs": [],
   "source": []
  }
 ],
 "metadata": {
  "kernelspec": {
   "display_name": "Python 3",
   "language": "python",
   "name": "python3"
  },
  "language_info": {
   "codemirror_mode": {
    "name": "ipython",
    "version": 3
   },
   "file_extension": ".py",
   "mimetype": "text/x-python",
   "name": "python",
   "nbconvert_exporter": "python",
   "pygments_lexer": "ipython3",
   "version": "3.8.8"
  }
 },
 "nbformat": 4,
 "nbformat_minor": 2
}
