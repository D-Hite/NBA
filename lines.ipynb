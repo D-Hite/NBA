{
 "cells": [
  {
   "cell_type": "code",
   "execution_count": null,
   "metadata": {},
   "outputs": [],
   "source": [
    "# Created 07/10/2021\n",
    "import pandas as pd\n",
    "import numpy as np\n",
    "import nba_api.stats.endpoints as ep\n",
    "from datetime import datetime\n",
    "import re\n",
    "from os import path"
   ]
  },
  {
   "cell_type": "code",
   "execution_count": null,
   "metadata": {},
   "outputs": [],
   "source": [
    "SEASONS = ['2012-13',\n",
    "          '2013-14',\n",
    "          '2014-15',\n",
    "          '2015-16',\n",
    "          '2016-17',\n",
    "          '2017-18',\n",
    "          '2018-19',\n",
    "          '2019-20']\n",
    "\n",
    "team_dict = {'Bucks':'MIL',\n",
    " 'Bulls':'CHI',\n",
    " 'Cavaliers':'CLE',\n",
    " 'Celtics':'BOS',\n",
    " 'Clippers':'LAC',\n",
    " 'Grizzlies':'MEM',\n",
    " 'Hawks':'ATL',\n",
    " 'Heat':'MIA',\n",
    " 'Hornets':'CHA',\n",
    " 'Jazz':'UTA',\n",
    " 'Kings':'SAC',\n",
    " 'Knicks':'NYK',\n",
    " 'Lakers':'LAL',\n",
    " 'Magic':'ORL',\n",
    " 'Mavericks':'DAL',\n",
    " 'Nets':'BKN',\n",
    " 'Nuggets':'DEN',\n",
    " 'Pacers':'IND',\n",
    " 'Pelicans':'NOP',\n",
    " 'Pistons':'DET',\n",
    " 'Raptors':'TOR',\n",
    " 'Rockets':'HOU',\n",
    " 'Seventysixers':'PHI',\n",
    " 'Spurs':'SAS',\n",
    " 'Suns':'PHX',\n",
    " 'Thunder':'OKC',\n",
    " 'Timberwolves':'MIN',\n",
    " 'Trailblazers':'POR',\n",
    " 'Warriors':'GSW',\n",
    " 'Wizards':'WAS'}\n",
    "\n",
    "def team_filter(df, team):\n",
    "    return df[df['TEAM_ABBREVIATION'] == team]"
   ]
  },
  {
   "cell_type": "code",
   "execution_count": null,
   "metadata": {
    "scrolled": true
   },
   "outputs": [],
   "source": [
    "# datetime.strptime(str(date), '%Y%m%d') == datetime.strptime(date2, '%Y-%m-%d')\n",
    "df1 = pd.read_csv(f'DATA/linesraw/Lines2012-13.csv', index_col='date')\n",
    "df2 = pd.read_csv(f'DATA/combinedv1/combined2012-13.csv', index_col='GAME_ID')\n",
    "gidlist=[]\n",
    "datelist=[]\n",
    "teamlist=[]\n",
    "linelist=[]\n",
    "oulist=[]\n",
    "for date, team, line, tot in zip(df1.index, df1['team'], df1['line'], df1['total']):\n",
    "    for date2, ta, gid in zip(df2['GAME_DATE'], df2['TEAM_ABBREVIATION'], df2.index):\n",
    "        if (team_dict[team] == ta):\n",
    "            if datetime.strptime(str(date), '%Y%m%d') == datetime.strptime(date2, '%Y-%m-%d'):\n",
    "                gidlist.append(gid)\n",
    "                datelist.append(date2)\n",
    "                teamlist.append(ta)\n",
    "                linelist.append(line)\n",
    "                oulist.append(tot)\n",
    "\n",
    "df3 = pd.DataFrame()\n",
    "df3['GAME_DATE']=datelist\n",
    "df3.index = pd.Series(gidlist, name='GAME_ID')\n",
    "df3['TEAM'] = teamlist\n",
    "df3['LINE'] = linelist\n",
    "df3['O/U'] = oulist\n",
    "df3.sort_values('TEAM', inplace=True, kind='mergesort')\n",
    "df3.sort_index(inplace=True, kind='mergesort')\n",
    "df3"
   ]
  },
  {
   "cell_type": "code",
   "execution_count": null,
   "metadata": {},
   "outputs": [],
   "source": []
  },
  {
   "cell_type": "code",
   "execution_count": null,
   "metadata": {
    "scrolled": true
   },
   "outputs": [],
   "source": [
    "df2.sort_index()\n",
    "df3.sort_values('GAME_ID')"
   ]
  },
  {
   "cell_type": "code",
   "execution_count": null,
   "metadata": {},
   "outputs": [],
   "source": [
    "news = set(df3['GAME_ID'].tolist())\n",
    "for i in df2.index:\n",
    "    if i not in news:\n",
    "        print(i, 'not found')"
   ]
  },
  {
   "cell_type": "code",
   "execution_count": null,
   "metadata": {},
   "outputs": [],
   "source": [
    "for season in SEASONS:\n",
    "    df1 = pd.read_csv(f'DATA/linesraw/Lines{season}.csv', index_col='date')\n",
    "    df2 = pd.read_csv(f'DATA/combinedv1/combined{season}.csv', index_col='GAME_ID')\n",
    "    gidlist=[]\n",
    "    datelist=[]\n",
    "    teamlist=[]\n",
    "    linelist=[]\n",
    "    oulist=[]\n",
    "    for date, team, line, tot in zip(df1.index, df1['team'], df1['line'], df1['total']):\n",
    "        for date2, ta, gid in zip(df2['GAME_DATE'], df2['TEAM_ABBREVIATION'], df2.index):\n",
    "            if (team_dict[team] == ta):\n",
    "                if datetime.strptime(str(date), '%Y%m%d') == datetime.strptime(date2, '%Y-%m-%d'):\n",
    "                    gidlist.append(gid)\n",
    "                    datelist.append(date2)\n",
    "                    teamlist.append(ta)\n",
    "                    linelist.append(line)\n",
    "                    oulist.append(tot)\n",
    "\n",
    "    df3 = pd.DataFrame()\n",
    "    df3['GAME_DATE']=datelist\n",
    "    df3.index = pd.Series(gidlist, name='GAME_ID')\n",
    "    df3['TEAM_ABBREVIATION'] = teamlist\n",
    "    df3['LINE'] = linelist\n",
    "    df3['O/U'] = oulist\n",
    "    df3.sort_values('TEAM_ABBREVIATION', inplace=True, kind='mergesort')\n",
    "    df3.sort_index(inplace=True, kind='mergesort')\n",
    "    df3.to_csv(f'DATA/linesv1/LinesV1{season}.csv')"
   ]
  },
  {
   "cell_type": "code",
   "execution_count": null,
   "metadata": {},
   "outputs": [],
   "source": [
    "linedf = pd.read_csv(f'DATA/linesv1/LinesV12012-13.csv', index_col='GAME_ID')\n",
    "t1_lines = team_filter(linedf, 'ATL')\n",
    "t1_lines"
   ]
  },
  {
   "cell_type": "code",
   "execution_count": null,
   "metadata": {},
   "outputs": [],
   "source": []
  }
 ],
 "metadata": {
  "kernelspec": {
   "display_name": "Python 3",
   "language": "python",
   "name": "python3"
  },
  "language_info": {
   "codemirror_mode": {
    "name": "ipython",
    "version": 3
   },
   "file_extension": ".py",
   "mimetype": "text/x-python",
   "name": "python",
   "nbconvert_exporter": "python",
   "pygments_lexer": "ipython3",
   "version": "3.8.8"
  }
 },
 "nbformat": 4,
 "nbformat_minor": 2
}
